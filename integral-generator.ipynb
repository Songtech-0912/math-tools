{
 "cells": [
  {
   "cell_type": "markdown",
   "id": "20a5e7db",
   "metadata": {},
   "source": [
    "# Integral generator"
   ]
  },
  {
   "cell_type": "markdown",
   "id": "6be1c2a2",
   "metadata": {},
   "source": [
    "This tool generates random integrals. Please set difficulty to 1 or the integrals it makes are ridiculously difficult to solve."
   ]
  },
  {
   "cell_type": "code",
   "execution_count": 83,
   "id": "8ca15aa8-9676-4e6a-9714-151b5040c621",
   "metadata": {},
   "outputs": [],
   "source": [
    "import sympy\n",
    "from sympy import Symbol, diff, simplify\n",
    "from random import randint, choice\n",
    "sympy.init_printing()"
   ]
  },
  {
   "cell_type": "code",
   "execution_count": 47,
   "id": "4a808b16",
   "metadata": {},
   "outputs": [],
   "source": [
    "elementary_funcs = [\"square\", \"cube\", \"sqrt\", \"cbrt\", \"exp\", \"log\", \\\n",
    "                    \"sin\", \"cos\", \"tan\", \"csc\", \"sec\", \\\n",
    "                    \"cot\", \"asin\", \"acos\", \"atan\"]"
   ]
  },
  {
   "cell_type": "code",
   "execution_count": 51,
   "id": "86ae5000",
   "metadata": {},
   "outputs": [],
   "source": [
    "def square(x):\n",
    "    return x ** 2"
   ]
  },
  {
   "cell_type": "code",
   "execution_count": 52,
   "id": "a5f26f6c",
   "metadata": {},
   "outputs": [],
   "source": [
    "def cube(x):\n",
    "    return x ** 3"
   ]
  },
  {
   "cell_type": "code",
   "execution_count": 53,
   "id": "68ea1f93",
   "metadata": {},
   "outputs": [],
   "source": [
    "sympy.square = square"
   ]
  },
  {
   "cell_type": "code",
   "execution_count": 65,
   "id": "00ae8078",
   "metadata": {},
   "outputs": [],
   "source": [
    "sympy.cube = cube"
   ]
  },
  {
   "cell_type": "code",
   "execution_count": 85,
   "id": "1d3757c2",
   "metadata": {},
   "outputs": [],
   "source": [
    "def generate_func(expr, seed=2):\n",
    "    i = randint(0, 1)\n",
    "    if i:\n",
    "        # polynomial function\n",
    "        f = getattr(sympy, choice(elementary_funcs))\n",
    "        return f(expr)\n",
    "    else:\n",
    "        # linear function\n",
    "        a = randint(0, 9)\n",
    "        return a * expr"
   ]
  },
  {
   "cell_type": "code",
   "execution_count": 88,
   "id": "600d3a78",
   "metadata": {},
   "outputs": [],
   "source": [
    "def generate_random_expr(difficulty):\n",
    "    x = Symbol(\"x\")\n",
    "    expr = generate_func(x)\n",
    "    for i in range(difficulty):\n",
    "        # 5 options: addition, subtraction,\n",
    "        # multiplication, division, composition\n",
    "        i = randint(0, 5)\n",
    "        other_expr = generate_func(x)\n",
    "        if i == 0:\n",
    "            expr += other_expr\n",
    "        elif i == 1:\n",
    "            expr -= other_expr\n",
    "        elif i == 2:\n",
    "            expr *= other_expr\n",
    "        elif i == 4:\n",
    "            expr /= other_expr\n",
    "        else:\n",
    "            # composition\n",
    "            expr = generate_func(expr)\n",
    "    return expr, x"
   ]
  },
  {
   "cell_type": "code",
   "execution_count": 96,
   "id": "49bcac25",
   "metadata": {},
   "outputs": [],
   "source": [
    "def generate_integral(difficulty=2):\n",
    "    integration_constant = Symbol(\"C\")\n",
    "    answer, x = generate_random_expr(difficulty)\n",
    "    integrand = diff(answer)\n",
    "    integral = sympy.Integral(integrand, x)\n",
    "    return integral, answer + integration_constant"
   ]
  },
  {
   "cell_type": "code",
   "execution_count": 97,
   "id": "472b00b4",
   "metadata": {},
   "outputs": [],
   "source": [
    "i, a = generate_integral()"
   ]
  },
  {
   "cell_type": "code",
   "execution_count": 98,
   "id": "f463bc01",
   "metadata": {},
   "outputs": [
    {
     "data": {
      "image/png": "[encoded data removed]",
      "text/latex": [
       "$\\displaystyle \\int \\left(-4 + \\frac{1}{x^{2} + 1} + \\frac{1}{x}\\right)\\, dx$"
      ],
      "text/plain": [
       "⌠                     \n",
       "⎮ ⎛       1      1⎞   \n",
       "⎮ ⎜-4 + ────── + ─⎟ dx\n",
       "⎮ ⎜      2       x⎟   \n",
       "⎮ ⎝     x  + 1    ⎠   \n",
       "⌡                     "
      ]
     },
     "execution_count": 98,
     "metadata": {},
     "output_type": "execute_result"
    }
   ],
   "source": [
    "i"
   ]
  },
  {
   "cell_type": "code",
   "execution_count": 61,
   "id": "28ff4529",
   "metadata": {},
   "outputs": [],
   "source": [
    "# uncomment and run to show the answer\n",
    "# simplify(a)"
   ]
  }
 ],
 "metadata": {
  "kernelspec": {
   "display_name": "Python 3 (ipykernel)",
   "language": "python",
   "name": "python3"
  },
  "language_info": {
   "codemirror_mode": {
    "name": "ipython",
    "version": 3
   },
   "file_extension": ".py",
   "mimetype": "text/x-python",
   "name": "python",
   "nbconvert_exporter": "python",
   "pygments_lexer": "ipython3",
   "version": "3.12.5"
  }
 },
 "nbformat": 4,
 "nbformat_minor": 5
}
