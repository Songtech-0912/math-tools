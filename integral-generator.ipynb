{
 "cells": [
  {
   "cell_type": "markdown",
   "id": "20a5e7db",
   "metadata": {},
   "source": [
    "# Integral generator"
   ]
  },
  {
   "cell_type": "markdown",
   "id": "6be1c2a2",
   "metadata": {},
   "source": [
    "This tool generates random integrals. Please set difficulty to 1 or the integrals it makes are ridiculously difficult to solve."
   ]
  },
  {
   "cell_type": "code",
   "execution_count": 1,
   "id": "4a808b16",
   "metadata": {},
   "outputs": [],
   "source": [
    "elementary_funcs = [\"square\", \"cube\", \"sqrt\", \"cbrt\", \"exp\", \"log\", \\\n",
    "                    \"constant\", \"sin\", \"cos\", \"tan\", \"csc\", \"sec\", \\\n",
    "                    \"cot\", \"arcsin\", \"arccos\", \"arctan\"]"
   ]
  },
  {
   "cell_type": "code",
   "execution_count": 7,
   "id": "e2acf807",
   "metadata": {},
   "outputs": [],
   "source": [
    "import sympy"
   ]
  },
  {
   "cell_type": "code",
   "execution_count": 19,
   "id": "b91367d7",
   "metadata": {},
   "outputs": [],
   "source": [
    "sympy.init_printing()"
   ]
  },
  {
   "cell_type": "code",
   "execution_count": 13,
   "id": "68de8fe9",
   "metadata": {},
   "outputs": [],
   "source": [
    "from random import randint, choice"
   ]
  },
  {
   "cell_type": "code",
   "execution_count": 3,
   "id": "86ae5000",
   "metadata": {},
   "outputs": [],
   "source": [
    "def square(x):\n",
    "    return x ** 2"
   ]
  },
  {
   "cell_type": "code",
   "execution_count": 4,
   "id": "a5f26f6c",
   "metadata": {},
   "outputs": [],
   "source": [
    "def cube(x):\n",
    "    return x ** 3"
   ]
  },
  {
   "cell_type": "code",
   "execution_count": 9,
   "id": "68ea1f93",
   "metadata": {},
   "outputs": [],
   "source": [
    "sympy.square = square"
   ]
  },
  {
   "cell_type": "code",
   "execution_count": 10,
   "id": "00ae8078",
   "metadata": {},
   "outputs": [],
   "source": [
    "sympy.cube = cube"
   ]
  },
  {
   "cell_type": "code",
   "execution_count": 12,
   "id": "1d3757c2",
   "metadata": {},
   "outputs": [],
   "source": [
    "def generate_func(expr, seed=2):\n",
    "    i = randint(0, 1)\n",
    "    if i:\n",
    "        # polynomial function\n",
    "        f = getattr(sympy, choice(elementary_funcs))\n",
    "        return f(expr)\n",
    "    else:\n",
    "        # linear function\n",
    "        a = randint(0, 9)\n",
    "        b = randint(0, 9)\n",
    "        return a * expr + b"
   ]
  },
  {
   "cell_type": "code",
   "execution_count": 18,
   "id": "600d3a78",
   "metadata": {},
   "outputs": [],
   "source": [
    "def generate_random_expr(difficulty):\n",
    "    x = Symbol(\"x\")\n",
    "    expr = generate_func(x)\n",
    "    for i in range(difficulty):\n",
    "        # 5 options: addition, subtraction,\n",
    "        # multiplication, division, composition\n",
    "        i = randint(0, 5)\n",
    "        other_expr = generate_func(x)\n",
    "        if i == 0:\n",
    "            expr += other_expr\n",
    "        elif i == 1:\n",
    "            expr -= other_expr\n",
    "        elif i == 2:\n",
    "            expr *= other_expr\n",
    "        elif i == 4:\n",
    "            expr /= other_expr\n",
    "        else:\n",
    "            # composition\n",
    "            expr = generate_func(expr)\n",
    "    return expr"
   ]
  },
  {
   "cell_type": "code",
   "execution_count": 50,
   "id": "49bcac25",
   "metadata": {},
   "outputs": [],
   "source": [
    "def generate_integral(difficulty=1):\n",
    "    answer = generate_random_expr(difficulty)\n",
    "    integrand = diff(answer)\n",
    "    integral = sympy.Integral(integrand)\n",
    "    return integral, answer"
   ]
  },
  {
   "cell_type": "code",
   "execution_count": 55,
   "id": "472b00b4",
   "metadata": {},
   "outputs": [],
   "source": [
    "i, a = generate_integral()"
   ]
  },
  {
   "cell_type": "code",
   "execution_count": 56,
   "id": "f463bc01",
   "metadata": {},
   "outputs": [
    {
     "data": {
      "image/png": "[encoded data removed]",
      "text/latex": [
       "$\\displaystyle \\int \\left(2 - \\tan^{2}{\\left(x \\right)}\\right)\\, dx$"
      ],
      "text/plain": [
       "⌠                 \n",
       "⎮ ⎛       2   ⎞   \n",
       "⎮ ⎝2 - tan (x)⎠ dx\n",
       "⌡                 "
      ]
     },
     "execution_count": 56,
     "metadata": {},
     "output_type": "execute_result"
    }
   ],
   "source": [
    "i"
   ]
  },
  {
   "cell_type": "code",
   "execution_count": 58,
   "id": "28ff4529",
   "metadata": {},
   "outputs": [
    {
     "data": {
      "image/png": "[encoded data removed]",
      "text/latex": [
       "$\\displaystyle 3 x - \\tan{\\left(x \\right)}$"
      ],
      "text/plain": [
       "3⋅x - tan(x)"
      ]
     },
     "execution_count": 58,
     "metadata": {},
     "output_type": "execute_result"
    }
   ],
   "source": [
    "a"
   ]
  }
 ],
 "metadata": {
  "kernelspec": {
   "display_name": "Python 3 (ipykernel)",
   "language": "python",
   "name": "python3"
  },
  "language_info": {
   "codemirror_mode": {
    "name": "ipython",
    "version": 3
   },
   "file_extension": ".py",
   "mimetype": "text/x-python",
   "name": "python",
   "nbconvert_exporter": "python",
   "pygments_lexer": "ipython3",
   "version": "3.11.4"
  }
 },
 "nbformat": 4,
 "nbformat_minor": 5
}
